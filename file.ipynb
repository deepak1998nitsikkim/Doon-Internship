{
  "nbformat": 4,
  "nbformat_minor": 0,
  "metadata": {
    "colab": {
      "provenance": []
    },
    "kernelspec": {
      "name": "python3",
      "display_name": "Python 3"
    },
    "language_info": {
      "name": "python"
    }
  },
  "cells": [
    {
      "cell_type": "markdown",
      "source": [
        "#File Handling\n",
        "File handling in Python allows you to create, read, update, and delete files. It is an essential part of many Python programs for tasks like reading data from files, storing results, or logging."
      ],
      "metadata": {
        "id": "6J4Q1gx9NHIV"
      }
    },
    {
      "cell_type": "markdown",
      "source": [
        "##Basic File Operations\n",
        "* Open a File\n",
        "* Reade a File\n",
        "* Write to a File\n",
        "* Append to a File"
      ],
      "metadata": {
        "id": "1G0QhF5dOQ0V"
      }
    },
    {
      "cell_type": "markdown",
      "source": [
        "###Open a File\n",
        "\n",
        "####Syntax:\n",
        "\n",
        "file = open(\"filename\", \"mode\")"
      ],
      "metadata": {
        "id": "b1ZiHVGOOv5j"
      }
    },
    {
      "cell_type": "markdown",
      "source": [
        "###Modes\n",
        "\n",
        "\n",
        "\n",
        "*   'r'\t - Read (default), error if file doesn't exist\n",
        "*   'w'\t - Write, creates file if not exist, overwrites existing\n",
        "*   'a'\t- Append, creates file if not exist\n",
        "*   List item"
      ],
      "metadata": {
        "id": "gfkX8zWxPt6Y"
      }
    },
    {
      "cell_type": "code",
      "execution_count": 9,
      "metadata": {
        "id": "gLLp0lzXMy-f"
      },
      "outputs": [],
      "source": [
        "f = open('/content/style.css','r')"
      ]
    },
    {
      "cell_type": "code",
      "source": [
        "f.read()"
      ],
      "metadata": {
        "colab": {
          "base_uri": "https://localhost:8080/",
          "height": 139
        },
        "id": "ygbXdT1DQ49x",
        "outputId": "8e59234d-9610-406c-e38e-54d216e1459f"
      },
      "execution_count": 10,
      "outputs": [
        {
          "output_type": "execute_result",
          "data": {
            "text/plain": [
              "\"body {\\n    font-family: 'Poppins', sans-serif;\\n    margin: 0;\\n    padding: 0;\\n    background: #fff;\\n    color: #333;\\n}\\nheader {\\n    background: #0f696c;\\n    padding: 15px 30px;\\n    display: flex;\\n    justify-content: space-between;\\n    align-items: center;\\n}\\n.logo a {\\n    color: #fff;\\n    font-size: 26px;\\n    text-decoration: none;\\n    font-weight: 700;\\n}\\nnav ul {\\n    list-style: none;\\n    display: flex;\\n    gap: 20px;\\n}\\nnav ul li a {\\n    color: #fff;\\n    text-decoration: none;\\n    font-weight: 500;\\n}\\n.hero {\\n    text-align: center;\\n    padding: 60px 20px;\\n    background: linear-gradient(90deg, #0f696c, #057373);\\n    color: white;\\n}\\n.profile-img {\\n    width: 160px;\\n    height: 160px;\\n    border-radius: 50%;\\n    border: 4px solid #fff;\\n    margin-bottom: 20px;\\n}\\n.btn {\\n    display: inline-block;\\n    margin-top: 20px;\\n    background: #fff;\\n    color: #0f696c;\\n    padding: 10px 20px;\\n    border-radius: 5px;\\n    text-decoration: none;\\n    font-weight: bold;\\n}\\nsection {\\n    padding: 40px 20px;\\n}\\nh2 {\\n    text-align: center;\\n    color: #0f696c;\\n}\\n.list {\\n    display: flex;\\n    flex-wrap: wrap;\\n    justify-content: center;\\n    gap: 10px;\\n    list-style: none;\\n    padding: 0;\\n}\\n.list li {\\n    background: #f1f1f1;\\n    padding: 10px 15px;\\n    border-radius: 5px;\\n}\\n.social-icons {\\n    display: flex;\\n    justify-content: center;\\n    gap: 20px;\\n    list-style: none;\\n    padding: 0;\\n}\\n.social-icons li a {\\n    text-decoration: none;\\n    color: #0f696c;\\n    font-size: 18px;\\n}\\nfooter {\\n    background: #0f696c;\\n    color: white;\\n    text-align: center;\\n    padding: 15px 0;\\n    margin-top: 40px;\\n}\\n@media screen and (max-width: 768px) {\\n    nav ul {\\n        flex-direction: column;\\n        align-items: flex-start;\\n    }\\n    .list, .social-icons {\\n        flex-direction: column;\\n        align-items: center;\\n    }\\n}\\n\""
            ],
            "application/vnd.google.colaboratory.intrinsic+json": {
              "type": "string"
            }
          },
          "metadata": {},
          "execution_count": 10
        }
      ]
    },
    {
      "cell_type": "code",
      "source": [
        "f = open('/content/myfile.css','w')\n",
        "f.write('my second python code')"
      ],
      "metadata": {
        "id": "hiKahiLYQ6yU"
      },
      "execution_count": 36,
      "outputs": []
    },
    {
      "cell_type": "code",
      "source": [
        "f=open('/content/myfile.css','r')\n",
        "f.read()"
      ],
      "metadata": {
        "colab": {
          "base_uri": "https://localhost:8080/",
          "height": 35
        },
        "id": "Ga56XsLWTKUd",
        "outputId": "6374ac32-56e6-42fb-ae27-1f030b9fec96"
      },
      "execution_count": 37,
      "outputs": [
        {
          "output_type": "execute_result",
          "data": {
            "text/plain": [
              "'my second python code'"
            ],
            "application/vnd.google.colaboratory.intrinsic+json": {
              "type": "string"
            }
          },
          "metadata": {},
          "execution_count": 37
        }
      ]
    },
    {
      "cell_type": "code",
      "source": [
        "f = open('/content/myfile.css','a')\n"
      ],
      "metadata": {
        "id": "Cb-sLANoSflg"
      },
      "execution_count": 46,
      "outputs": []
    },
    {
      "cell_type": "code",
      "source": [
        "f = open('myfile.txt', 'a')\n",
        "f.write('my third code\\n')\n",
        "f.close()"
      ],
      "metadata": {
        "id": "PRrgj30kShf9"
      },
      "execution_count": 48,
      "outputs": []
    },
    {
      "cell_type": "code",
      "source": [
        "f = open('myfile.txt', 'r')\n",
        "f.read()"
      ],
      "metadata": {
        "colab": {
          "base_uri": "https://localhost:8080/",
          "height": 35
        },
        "id": "FC1xiXHjUs5o",
        "outputId": "3a85796d-4fdf-449f-b0d5-4d6a4c3e50cb"
      },
      "execution_count": 50,
      "outputs": [
        {
          "output_type": "execute_result",
          "data": {
            "text/plain": [
              "'my third code\\n'"
            ],
            "application/vnd.google.colaboratory.intrinsic+json": {
              "type": "string"
            }
          },
          "metadata": {},
          "execution_count": 50
        }
      ]
    },
    {
      "cell_type": "markdown",
      "source": [
        "###Read a File"
      ],
      "metadata": {
        "id": "RZxT--EoVZqQ"
      }
    },
    {
      "cell_type": "code",
      "source": [
        "file = open(\"myfile.txt\", \"r\")\n",
        "content = file.read()\n",
        "print(content)\n",
        "file.close()"
      ],
      "metadata": {
        "colab": {
          "base_uri": "https://localhost:8080/",
          "height": 0
        },
        "id": "QhARhxtfVImX",
        "outputId": "0171cfcd-49d7-4e5b-d549-6143fd41827b"
      },
      "execution_count": 52,
      "outputs": [
        {
          "output_type": "stream",
          "name": "stdout",
          "text": [
            "my third code\n",
            "\n"
          ]
        }
      ]
    },
    {
      "cell_type": "code",
      "source": [
        "#read file line by line\n",
        "\n",
        "file = open(\"in.html\", \"r\")\n",
        "for line in file:\n",
        "    print(line.strip())\n",
        "file.close()"
      ],
      "metadata": {
        "colab": {
          "base_uri": "https://localhost:8080/",
          "height": 0
        },
        "id": "waePkYTuVgB0",
        "outputId": "5c9d31b7-ed77-4234-f8e8-9dd46418b020"
      },
      "execution_count": 53,
      "outputs": [
        {
          "output_type": "stream",
          "name": "stdout",
          "text": [
            "<!DOCTYPE html>\n",
            "<html lang=\"en\">\n",
            "<head>\n",
            "<meta charset=\"UTF-8\">\n",
            "<meta name=\"viewport\" content=\"width=device-width, initial-scale=1.0\">\n",
            "<title>Deepak Dhingan - Portfolio</title>\n",
            "<style>\n",
            "body {\n",
            "margin: 0;\n",
            "font-family: Arial, sans-serif;\n",
            "background: #f5f7fa;\n",
            "}\n",
            "header {\n",
            "display: flex;\n",
            "justify-content: space-between;\n",
            "align-items: center;\n",
            "padding: 20px 10%;\n",
            "background: white;\n",
            "}\n",
            "header h1 span {\n",
            "color: #007BFF;\n",
            "}\n",
            "nav a {\n",
            "margin: 0 15px;\n",
            "color: #333;\n",
            "text-decoration: none;\n",
            "font-weight: 500;\n",
            "}\n",
            ".hero {\n",
            "display: flex;\n",
            "justify-content: space-between;\n",
            "align-items: center;\n",
            "padding: 50px 10%;\n",
            "background: linear-gradient(to right, #fff, #e7f0fd);\n",
            "}\n",
            ".hero-content h2 {\n",
            "font-size: 2rem;\n",
            "margin-bottom: 10px;\n",
            "}\n",
            ".hero-content h1 {\n",
            "font-size: 3rem;\n",
            "margin: 10px 0;\n",
            "}\n",
            ".hero-content h1 span {\n",
            "color: #007BFF;\n",
            "}\n",
            ".hero-content p {\n",
            "color: #555;\n",
            "margin: 20px 0;\n",
            "max-width: 500px;\n",
            "}\n",
            ".buttons a {\n",
            "display: inline-block;\n",
            "padding: 12px 25px;\n",
            "margin-right: 15px;\n",
            "border-radius: 5px;\n",
            "text-decoration: none;\n",
            "font-weight: bold;\n",
            "}\n",
            ".buttons .blue {\n",
            "background: #007BFF;\n",
            "color: white;\n",
            "}\n",
            ".buttons .outline {\n",
            "border: 2px solid #ddd;\n",
            "color: #333;\n",
            "}\n",
            ".hero img {\n",
            "width: 300px;\n",
            "border-radius: 10px;\n",
            "}\n",
            ".partners {\n",
            "display: flex;\n",
            "justify-content: center;\n",
            "align-items: center;\n",
            "flex-wrap: wrap;\n",
            "padding: 30px 0;\n",
            "}\n",
            ".partners img {\n",
            "height: 40px;\n",
            "margin: 15px 30px;\n",
            "filter: grayscale(100%);\n",
            "}\n",
            ".section {\n",
            "padding: 50px 10%;\n",
            "background: white;\n",
            "margin: 20px 0;\n",
            "border-radius: 10px;\n",
            "box-shadow: 0 0 10px rgba(0,0,0,0.05);\n",
            "}\n",
            ".section h2 {\n",
            "color: #007BFF;\n",
            "margin-bottom: 20px;\n",
            "}\n",
            ".section ul {\n",
            "list-style: square;\n",
            "padding-left: 20px;\n",
            "}\n",
            "</style>\n",
            "</head>\n",
            "<body>\n",
            "\n",
            "<header>\n",
            "<h1>Deepak<span>Dhingan</span></h1>\n",
            "<nav>\n",
            "<a href=\"#\">Home</a>\n",
            "<a href=\"#\">About</a>\n",
            "<a href=\"#skills\">Skills</a>\n",
            "<a href=\"#experience\">Experience</a>\n",
            "<a href=\"#projects\">Projects</a>\n",
            "<a href=\"#education\">Education</a>\n",
            "<a href=\"#certifications\">Certifications</a>\n",
            "<a href=\"#contact\">Contact</a>\n",
            "</nav>\n",
            "</header>\n",
            "\n",
            "<section class=\"hero\">\n",
            "<div class=\"hero-content\">\n",
            "<h2>Hello Mate 👋</h2>\n",
            "<h1>I'm Deepak Dhingan<br><span>AI & Data Science Trainer</span></h1>\n",
            "<p>Assistant Professor (Guest) with expertise in Machine Learning, Optimization, Web Development, and real-world data-driven problem solving. Passionate about bridging academia and industry.</p>\n",
            "<div class=\"buttons\">\n",
            "<a href=\"#contact\" class=\"blue\">Contact Me</a>\n",
            "<a href=\"deepak199817.pdf\" class=\"outline\" download>Download CV</a>\n",
            "</div>\n",
            "</div>\n",
            "<img src=\"abc.webp\" alt=\"Deepak Dhingan\">\n",
            "</section>\n",
            "\n",
            "<section class=\"section\" id=\"skills\">\n",
            "<h2>Technical & Professional Skills</h2>\n",
            "<ul>\n",
            "<li>C, C++, Python, PHP, HTML, CSS, JavaScript, SQL</li>\n",
            "<li>VMWare, Docker, Latex, MySQL, PostgreSQL, Django, MS Office</li>\n",
            "<li>DSA, DBMS, ML, Data Analysis, Optimization Algorithms</li>\n",
            "<li>Teamwork, Communication, Leadership, Time Management, Adaptability</li>\n",
            "</ul>\n",
            "</section>\n",
            "\n",
            "<section class=\"section\" id=\"experience\">\n",
            "<h2>Experience</h2>\n",
            "<ul>\n",
            "<li>Assistant Professor, Doon University (Sep 2023 – Present)</li>\n",
            "<li>Graduate Assistant, NIT Sikkim (Apr 2022 – Sept 2022)</li>\n",
            "<li>Intern, Cummins India (Sep 2023 – Jun 2023)</li>\n",
            "<li>Python Intern, Parahit Technologies (Dec 2020 – Mar 2021)</li>\n",
            "</ul>\n",
            "</section>\n",
            "\n",
            "<section class=\"section\" id=\"projects\">\n",
            "<h2>Academic Projects</h2>\n",
            "<ul>\n",
            "<li>Iris Flower Dataset Classification - Decision Tree, scikit-learn</li>\n",
            "<li>Netflix Movies Data Analysis - Python, Pandas, Matplotlib</li>\n",
            "<li>Startup Profitability Prediction - Linear Regression, Scikit-learn</li>\n",
            "<li>iPhone Sales Data Analysis - Python, Plotly, Pandas</li>\n",
            "</ul>\n",
            "</section>\n",
            "\n",
            "<section class=\"section\" id=\"education\">\n",
            "<h2>Education</h2>\n",
            "<ul>\n",
            "<li>M.Tech (CSE), NIT Sikkim (2021 - 2023) - CGPA: 7.23/10</li>\n",
            "<li>B.Tech (CSE), HNB Garhwal University (2017 - 2021) - CGPA: 6.90/10</li>\n",
            "</ul>\n",
            "</section>\n",
            "\n",
            "<section class=\"section\" id=\"certifications\">\n",
            "<h2>Certifications & Recognition</h2>\n",
            "<ul>\n",
            "<li>Coursera: Programming for Everybody (Python), Python for Data Science, AI and Development</li>\n",
            "<li>Great Learning: C and C++ Programming for Beginners</li>\n",
            "<li>Hackerrank, Codechef: Python Programming for Problem Solving</li>\n",
            "<li>Workshop on Security of AI at NIT Jalandhar</li>\n",
            "<li>Competitive Coding: Leetcode, Hackerrank, Codechef</li>\n",
            "<li>Qualified: GATE CS, GATE DA, UGC NET</li>\n",
            "</ul>\n",
            "</section>\n",
            "\n",
            "<section class=\"section\" id=\"contact\">\n",
            "<h2>Contact & Social Links</h2>\n",
            "<ul>\n",
            "<li>Email: deepaknitsikkim1998@gmail.com</li>\n",
            "<li>Phone: +91-8360658010</li>\n",
            "<li><a href=\"https://www.linkedin.com/in/deepak-dhingan-ab3483137\">LinkedIn</a></li>\n",
            "<li><a href=\"https://github.com/deepak1998nitsikkim\">GitHub</a></li>\n",
            "<li><a href=\"https://leetcode.com/u/deepaknitsikkim1998\">LeetCode</a></li>\n",
            "<li><a href=\"https://www.hackerrank.com/profile/deepaknitsikkim1\">HackerRank</a></li>\n",
            "<li><a href=\"https://codechef.com/users/deepak199817\">CodeChef</a></li>\n",
            "</ul>\n",
            "</section>\n",
            "\n",
            "<section class=\"partners\">\n",
            "<img src=\"https://upload.wikimedia.org/wikipedia/commons/2/2f/Google_2015_logo.svg\" alt=\"Google\">\n",
            "<img src=\"https://upload.wikimedia.org/wikipedia/commons/a/a9/Amazon_logo.svg\" alt=\"Amazon\">\n",
            "<img src=\"https://upload.wikimedia.org/wikipedia/commons/6/69/Airbnb_Logo_Bélo.svg\" alt=\"Airbnb\">\n",
            "<img src=\"https://upload.wikimedia.org/wikipedia/commons/2/26/Spotify_logo_with_text.svg\" alt=\"Spotify\">\n",
            "<img src=\"https://upload.wikimedia.org/wikipedia/commons/c/c0/Intel_logo_%282020%29.svg\" alt=\"Intel\">\n",
            "</section>\n",
            "\n",
            "</body>\n",
            "</html>\n"
          ]
        }
      ]
    },
    {
      "cell_type": "code",
      "source": [
        "# Using readlines()\n",
        "file = open(\"in.html\", \"r\")\n",
        "lines = file.readlines()\n",
        "print(lines)\n",
        "file.close()"
      ],
      "metadata": {
        "colab": {
          "base_uri": "https://localhost:8080/",
          "height": 0
        },
        "id": "ilFSNT_fVwRn",
        "outputId": "34cf786d-c2e7-4acc-e339-d1bb009334f7"
      },
      "execution_count": 55,
      "outputs": [
        {
          "output_type": "stream",
          "name": "stdout",
          "text": [
            "['<!DOCTYPE html>\\n', '<html lang=\"en\">\\n', '<head>\\n', '  <meta charset=\"UTF-8\">\\n', '  <meta name=\"viewport\" content=\"width=device-width, initial-scale=1.0\">\\n', '  <title>Deepak Dhingan - Portfolio</title>\\n', '  <style>\\n', '    body {\\n', '      margin: 0;\\n', '      font-family: Arial, sans-serif;\\n', '      background: #f5f7fa;\\n', '    }\\n', '    header {\\n', '      display: flex;\\n', '      justify-content: space-between;\\n', '      align-items: center;\\n', '      padding: 20px 10%;\\n', '      background: white;\\n', '    }\\n', '    header h1 span {\\n', '      color: #007BFF;\\n', '    }\\n', '    nav a {\\n', '      margin: 0 15px;\\n', '      color: #333;\\n', '      text-decoration: none;\\n', '      font-weight: 500;\\n', '    }\\n', '    .hero {\\n', '      display: flex;\\n', '      justify-content: space-between;\\n', '      align-items: center;\\n', '      padding: 50px 10%;\\n', '      background: linear-gradient(to right, #fff, #e7f0fd);\\n', '    }\\n', '    .hero-content h2 {\\n', '      font-size: 2rem;\\n', '      margin-bottom: 10px;\\n', '    }\\n', '    .hero-content h1 {\\n', '      font-size: 3rem;\\n', '      margin: 10px 0;\\n', '    }\\n', '    .hero-content h1 span {\\n', '      color: #007BFF;\\n', '    }\\n', '    .hero-content p {\\n', '      color: #555;\\n', '      margin: 20px 0;\\n', '      max-width: 500px;\\n', '    }\\n', '    .buttons a {\\n', '      display: inline-block;\\n', '      padding: 12px 25px;\\n', '      margin-right: 15px;\\n', '      border-radius: 5px;\\n', '      text-decoration: none;\\n', '      font-weight: bold;\\n', '    }\\n', '    .buttons .blue {\\n', '      background: #007BFF;\\n', '      color: white;\\n', '    }\\n', '    .buttons .outline {\\n', '      border: 2px solid #ddd;\\n', '      color: #333;\\n', '    }\\n', '    .hero img {\\n', '      width: 300px;\\n', '      border-radius: 10px;\\n', '    }\\n', '    .partners {\\n', '      display: flex;\\n', '      justify-content: center;\\n', '      align-items: center;\\n', '      flex-wrap: wrap;\\n', '      padding: 30px 0;\\n', '    }\\n', '    .partners img {\\n', '      height: 40px;\\n', '      margin: 15px 30px;\\n', '      filter: grayscale(100%);\\n', '    }\\n', '    .section {\\n', '      padding: 50px 10%;\\n', '      background: white;\\n', '      margin: 20px 0;\\n', '      border-radius: 10px;\\n', '      box-shadow: 0 0 10px rgba(0,0,0,0.05);\\n', '    }\\n', '    .section h2 {\\n', '      color: #007BFF;\\n', '      margin-bottom: 20px;\\n', '    }\\n', '    .section ul {\\n', '      list-style: square;\\n', '      padding-left: 20px;\\n', '    }\\n', '  </style>\\n', '</head>\\n', '<body>\\n', '\\n', '<header>\\n', '  <h1>Deepak<span>Dhingan</span></h1>\\n', '  <nav>\\n', '    <a href=\"#\">Home</a>\\n', '    <a href=\"#\">About</a>\\n', '    <a href=\"#skills\">Skills</a>\\n', '    <a href=\"#experience\">Experience</a>\\n', '    <a href=\"#projects\">Projects</a>\\n', '    <a href=\"#education\">Education</a>\\n', '    <a href=\"#certifications\">Certifications</a>\\n', '    <a href=\"#contact\">Contact</a>\\n', '  </nav>\\n', '</header>\\n', '\\n', '<section class=\"hero\">\\n', '  <div class=\"hero-content\">\\n', '    <h2>Hello Mate 👋</h2>\\n', \"    <h1>I'm Deepak Dhingan<br><span>AI & Data Science Trainer</span></h1>\\n\", '    <p>Assistant Professor (Guest) with expertise in Machine Learning, Optimization, Web Development, and real-world data-driven problem solving. Passionate about bridging academia and industry.</p>\\n', '    <div class=\"buttons\">\\n', '      <a href=\"#contact\" class=\"blue\">Contact Me</a>\\n', '      <a href=\"deepak199817.pdf\" class=\"outline\" download>Download CV</a>\\n', '    </div>\\n', '  </div>\\n', '  <img src=\"abc.webp\" alt=\"Deepak Dhingan\">\\n', '</section>\\n', '\\n', '<section class=\"section\" id=\"skills\">\\n', '  <h2>Technical & Professional Skills</h2>\\n', '  <ul>\\n', '    <li>C, C++, Python, PHP, HTML, CSS, JavaScript, SQL</li>\\n', '    <li>VMWare, Docker, Latex, MySQL, PostgreSQL, Django, MS Office</li>\\n', '    <li>DSA, DBMS, ML, Data Analysis, Optimization Algorithms</li>\\n', '    <li>Teamwork, Communication, Leadership, Time Management, Adaptability</li>\\n', '  </ul>\\n', '</section>\\n', '\\n', '<section class=\"section\" id=\"experience\">\\n', '  <h2>Experience</h2>\\n', '  <ul>\\n', '    <li>Assistant Professor, Doon University (Sep 2023 – Present)</li>\\n', '    <li>Graduate Assistant, NIT Sikkim (Apr 2022 – Sept 2022)</li>\\n', '    <li>Intern, Cummins India (Sep 2023 – Jun 2023)</li>\\n', '    <li>Python Intern, Parahit Technologies (Dec 2020 – Mar 2021)</li>\\n', '  </ul>\\n', '</section>\\n', '\\n', '<section class=\"section\" id=\"projects\">\\n', '  <h2>Academic Projects</h2>\\n', '  <ul>\\n', '    <li>Iris Flower Dataset Classification - Decision Tree, scikit-learn</li>\\n', '    <li>Netflix Movies Data Analysis - Python, Pandas, Matplotlib</li>\\n', '    <li>Startup Profitability Prediction - Linear Regression, Scikit-learn</li>\\n', '    <li>iPhone Sales Data Analysis - Python, Plotly, Pandas</li>\\n', '  </ul>\\n', '</section>\\n', '\\n', '<section class=\"section\" id=\"education\">\\n', '  <h2>Education</h2>\\n', '  <ul>\\n', '    <li>M.Tech (CSE), NIT Sikkim (2021 - 2023) - CGPA: 7.23/10</li>\\n', '    <li>B.Tech (CSE), HNB Garhwal University (2017 - 2021) - CGPA: 6.90/10</li>\\n', '  </ul>\\n', '</section>\\n', '\\n', '<section class=\"section\" id=\"certifications\">\\n', '  <h2>Certifications & Recognition</h2>\\n', '  <ul>\\n', '    <li>Coursera: Programming for Everybody (Python), Python for Data Science, AI and Development</li>\\n', '    <li>Great Learning: C and C++ Programming for Beginners</li>\\n', '    <li>Hackerrank, Codechef: Python Programming for Problem Solving</li>\\n', '    <li>Workshop on Security of AI at NIT Jalandhar</li>\\n', '    <li>Competitive Coding: Leetcode, Hackerrank, Codechef</li>\\n', '    <li>Qualified: GATE CS, GATE DA, UGC NET</li>\\n', '  </ul>\\n', '</section>\\n', '\\n', '<section class=\"section\" id=\"contact\">\\n', '  <h2>Contact & Social Links</h2>\\n', '  <ul>\\n', '    <li>Email: deepaknitsikkim1998@gmail.com</li>\\n', '    <li>Phone: +91-8360658010</li>\\n', '    <li><a href=\"https://www.linkedin.com/in/deepak-dhingan-ab3483137\">LinkedIn</a></li>\\n', '    <li><a href=\"https://github.com/deepak1998nitsikkim\">GitHub</a></li>\\n', '    <li><a href=\"https://leetcode.com/u/deepaknitsikkim1998\">LeetCode</a></li>\\n', '    <li><a href=\"https://www.hackerrank.com/profile/deepaknitsikkim1\">HackerRank</a></li>\\n', '    <li><a href=\"https://codechef.com/users/deepak199817\">CodeChef</a></li>\\n', '  </ul>\\n', '</section>\\n', '\\n', '<section class=\"partners\">\\n', '  <img src=\"https://upload.wikimedia.org/wikipedia/commons/2/2f/Google_2015_logo.svg\" alt=\"Google\">\\n', '  <img src=\"https://upload.wikimedia.org/wikipedia/commons/a/a9/Amazon_logo.svg\" alt=\"Amazon\">\\n', '  <img src=\"https://upload.wikimedia.org/wikipedia/commons/6/69/Airbnb_Logo_Bélo.svg\" alt=\"Airbnb\">\\n', '  <img src=\"https://upload.wikimedia.org/wikipedia/commons/2/26/Spotify_logo_with_text.svg\" alt=\"Spotify\">\\n', '  <img src=\"https://upload.wikimedia.org/wikipedia/commons/c/c0/Intel_logo_%282020%29.svg\" alt=\"Intel\">\\n', '</section>\\n', '\\n', '</body>\\n', '</html>\\n']\n"
          ]
        }
      ]
    },
    {
      "cell_type": "markdown",
      "source": [
        "###Writing to a File"
      ],
      "metadata": {
        "id": "EqSSmVubWM3x"
      }
    },
    {
      "cell_type": "code",
      "source": [
        "# Overwrites existing content or creates new\n",
        "file = open(\"example.txt\", \"w\")\n",
        "file.write(\"Hello, World!\\n\")\n",
        "file.write(\"This is Python file handling.\\n\")\n",
        "file.close()"
      ],
      "metadata": {
        "id": "cUHtvdIxV_Ck"
      },
      "execution_count": 56,
      "outputs": []
    },
    {
      "cell_type": "markdown",
      "source": [],
      "metadata": {
        "id": "K3_2qsv1WZ0o"
      }
    },
    {
      "cell_type": "code",
      "source": [
        "file = open(\"example.txt\", \"r\")\n",
        "file.read()"
      ],
      "metadata": {
        "colab": {
          "base_uri": "https://localhost:8080/",
          "height": 35
        },
        "id": "hGgLQwoKWS4v",
        "outputId": "508f547a-6caf-47aa-9d1b-a4c56dc27016"
      },
      "execution_count": 57,
      "outputs": [
        {
          "output_type": "execute_result",
          "data": {
            "text/plain": [
              "'Hello, World!\\nThis is Python file handling.\\n'"
            ],
            "application/vnd.google.colaboratory.intrinsic+json": {
              "type": "string"
            }
          },
          "metadata": {},
          "execution_count": 57
        }
      ]
    },
    {
      "cell_type": "markdown",
      "source": [
        "###Append to a File"
      ],
      "metadata": {
        "id": "wyyNSWxhWjbF"
      }
    },
    {
      "cell_type": "code",
      "source": [
        "file = open(\"example.txt\", \"a\")\n",
        "file.write(\"Adding another line.\\n\")\n",
        "file.close()"
      ],
      "metadata": {
        "id": "35nQMb6PWX7-"
      },
      "execution_count": 58,
      "outputs": []
    },
    {
      "cell_type": "markdown",
      "source": [
        "####Using with Statement"
      ],
      "metadata": {
        "id": "ImU31-PDWqvw"
      }
    },
    {
      "cell_type": "code",
      "source": [
        "with open(\"example.txt\", \"r\") as file:\n",
        "    content = file.read()\n",
        "    print(content)"
      ],
      "metadata": {
        "colab": {
          "base_uri": "https://localhost:8080/",
          "height": 0
        },
        "id": "EM73S40VWnmH",
        "outputId": "f6747a54-5e2c-4d42-b7cf-b4cdc9e5269f"
      },
      "execution_count": 59,
      "outputs": [
        {
          "output_type": "stream",
          "name": "stdout",
          "text": [
            "Hello, World!\n",
            "This is Python file handling.\n",
            "Adding another line.\n",
            "\n"
          ]
        }
      ]
    },
    {
      "cell_type": "markdown",
      "source": [
        "###Copy file"
      ],
      "metadata": {
        "id": "1BhMsYcHXTmR"
      }
    },
    {
      "cell_type": "code",
      "source": [
        "with open(\"source.txt\", \"r\") as src, open(\"destination.txt\", \"w\") as dest:\n",
        "    for line in src:\n",
        "        dest.write(line)\n"
      ],
      "metadata": {
        "id": "4X3iLxCOW8vJ"
      },
      "execution_count": 66,
      "outputs": []
    },
    {
      "cell_type": "code",
      "source": [
        "#check file exist\n",
        "import os\n",
        "\n",
        "if os.path.exists(\"in.html\"):\n",
        "    print(\"File exists!\")\n",
        "else:\n",
        "    print(\"File not found!\")"
      ],
      "metadata": {
        "colab": {
          "base_uri": "https://localhost:8080/",
          "height": 0
        },
        "id": "0R2TIwPHXVaP",
        "outputId": "a132f709-baee-41d4-f8cb-20793cae5927"
      },
      "execution_count": 1,
      "outputs": [
        {
          "output_type": "stream",
          "name": "stdout",
          "text": [
            "File not found!\n"
          ]
        }
      ]
    },
    {
      "cell_type": "code",
      "source": [
        "#remove file\n",
        "import os\n",
        "\n",
        "if os.path.exists(\"in.html\"):\n",
        "    os.remove(\"in.html\")\n",
        "else:\n",
        "    print(\"The file does not exist\")"
      ],
      "metadata": {
        "colab": {
          "base_uri": "https://localhost:8080/",
          "height": 0
        },
        "id": "87g2JRVq1h2c",
        "outputId": "3b30788f-d5c1-4b59-c3c4-c914a9c49dcc"
      },
      "execution_count": 5,
      "outputs": [
        {
          "output_type": "stream",
          "name": "stdout",
          "text": [
            "The file does not exist\n"
          ]
        }
      ]
    },
    {
      "cell_type": "code",
      "source": [],
      "metadata": {
        "id": "FajjY39A1sxM"
      },
      "execution_count": null,
      "outputs": []
    }
  ]
}