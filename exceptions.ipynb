{
  "nbformat": 4,
  "nbformat_minor": 0,
  "metadata": {
    "colab": {
      "provenance": []
    },
    "kernelspec": {
      "name": "python3",
      "display_name": "Python 3"
    },
    "language_info": {
      "name": "python"
    }
  },
  "cells": [
    {
      "cell_type": "markdown",
      "source": [
        "Exception handling is a programming technique used to manage and respond to runtime errors or unexpected events in a graceful and controlled way, instead of letting the program crash."
      ],
      "metadata": {
        "id": "TGGLTyQUqjdb"
      }
    },
    {
      "cell_type": "markdown",
      "source": [
        "Why is Exception Handling Important?\n",
        "Prevents the program from crashing.\n",
        "\n",
        "* Helps in debugging.\n",
        "\n",
        "* Allows the program to continue or safely terminate.\n",
        "\n",
        "* Provides meaningful error messages to the user."
      ],
      "metadata": {
        "id": "N0dc4UDDqpTD"
      }
    },
    {
      "cell_type": "markdown",
      "source": [
        "#Exception\n",
        "An exception is an error that occurs during the execution of a program."
      ],
      "metadata": {
        "id": "7BTNTfxlq3Na"
      }
    },
    {
      "cell_type": "markdown",
      "source": [
        "## components\n",
        "* try : try\tBlock of code to test for errors\n",
        "* except : except\tBlock of code that handles the error\n",
        "* else : else\tBlock of code to run if there is no error\n",
        "* finally : finally\tBlock of code that will always execute, error or not\n",
        "* raise : raise\tUsed to manually trigger an exception"
      ],
      "metadata": {
        "id": "x3D_VEZ6rIAt"
      }
    },
    {
      "cell_type": "markdown",
      "source": [
        "###Structure of exception handling\n"
      ],
      "metadata": {
        "id": "pQarFXatrlGF"
      }
    },
    {
      "cell_type": "code",
      "source": [
        "# try:\n",
        "#     print('try block')\n",
        "# except ZeroDivisionError:\n",
        "#     print(\"except block\")\n",
        "# else:\n",
        "#     print(\"else block')\n",
        "# finally:\n",
        "#     print(\"finally block\")"
      ],
      "metadata": {
        "id": "6BJm2kRrsHai"
      },
      "execution_count": 1,
      "outputs": []
    },
    {
      "cell_type": "code",
      "source": [
        "#raise exception\n",
        "\n",
        "num = -5\n",
        "try:\n",
        "  if num < 0:\n",
        "      raise Exception(\"raise exception\")\n",
        "except Exception as e:\n",
        "      print(e)\n"
      ],
      "metadata": {
        "colab": {
          "base_uri": "https://localhost:8080/"
        },
        "id": "F9TLacBNsJYE",
        "outputId": "199878eb-2c99-491d-ecfc-a6d7948cf6d8"
      },
      "execution_count": 6,
      "outputs": [
        {
          "output_type": "stream",
          "name": "stdout",
          "text": [
            "raise exception\n"
          ]
        }
      ]
    },
    {
      "cell_type": "code",
      "source": [
        "#ZeroDivisionError\n",
        "try:\n",
        "    print(10 / 0)\n",
        "except ZeroDivisionError:\n",
        "    print(\"Cannot divide by zero.\")"
      ],
      "metadata": {
        "colab": {
          "base_uri": "https://localhost:8080/"
        },
        "id": "7GwHCDUcsfgi",
        "outputId": "1d37964c-d74d-4a68-f420-9914491a3617"
      },
      "execution_count": 7,
      "outputs": [
        {
          "output_type": "stream",
          "name": "stdout",
          "text": [
            "Cannot divide by zero.\n"
          ]
        }
      ]
    },
    {
      "cell_type": "code",
      "source": [
        "#ValueError\n",
        "try:\n",
        "    num = int(\"abc\")\n",
        "except ValueError:\n",
        "    print(\"Invalid literal for int conversion.\")"
      ],
      "metadata": {
        "colab": {
          "base_uri": "https://localhost:8080/"
        },
        "id": "lgu4STbNtUDb",
        "outputId": "b257786f-c9a6-4f4c-a786-648003bad179"
      },
      "execution_count": 8,
      "outputs": [
        {
          "output_type": "stream",
          "name": "stdout",
          "text": [
            "Invalid literal for int conversion.\n"
          ]
        }
      ]
    },
    {
      "cell_type": "code",
      "source": [
        "#IndexError\n",
        "try:\n",
        "    lst = [1, 2, 3]\n",
        "    print(lst[5])\n",
        "except IndexError:\n",
        "    print(\"List index out of range.\")"
      ],
      "metadata": {
        "colab": {
          "base_uri": "https://localhost:8080/"
        },
        "id": "RA7g96iltYu6",
        "outputId": "3b5ed063-0cf2-42d2-b3c0-7a17660aa3ca"
      },
      "execution_count": 9,
      "outputs": [
        {
          "output_type": "stream",
          "name": "stdout",
          "text": [
            "List index out of range.\n"
          ]
        }
      ]
    },
    {
      "cell_type": "code",
      "source": [
        "#KeyError\n",
        "try:\n",
        "    d = {\"a\": 1}\n",
        "    print(d[\"b\"])\n",
        "except KeyError:\n",
        "    print(\"Key does not exist.\")"
      ],
      "metadata": {
        "colab": {
          "base_uri": "https://localhost:8080/"
        },
        "id": "SYk3gDs-tfMV",
        "outputId": "de194e3c-41ee-43d0-8cdc-4afde494dd8e"
      },
      "execution_count": 10,
      "outputs": [
        {
          "output_type": "stream",
          "name": "stdout",
          "text": [
            "Key does not exist.\n"
          ]
        }
      ]
    },
    {
      "cell_type": "code",
      "source": [
        "#TypeError\n",
        "try:\n",
        "    print(\"abc\" + 5)\n",
        "except TypeError:\n",
        "    print(\"Cannot add str and int.\")"
      ],
      "metadata": {
        "colab": {
          "base_uri": "https://localhost:8080/"
        },
        "id": "xhGlXUZEti_O",
        "outputId": "8e93f230-1680-4e03-a351-6eeb8283c2d5"
      },
      "execution_count": 11,
      "outputs": [
        {
          "output_type": "stream",
          "name": "stdout",
          "text": [
            "Cannot add str and int.\n"
          ]
        }
      ]
    },
    {
      "cell_type": "code",
      "source": [
        "#AttributeError\n",
        "try:\n",
        "    x = 5\n",
        "    x.append(10)\n",
        "except AttributeError:\n",
        "    print(\"int object has no attribute append.\")"
      ],
      "metadata": {
        "colab": {
          "base_uri": "https://localhost:8080/"
        },
        "id": "Bx8v1hYOtnXZ",
        "outputId": "bcfbe8b7-3487-4079-df8d-17c9f4b36365"
      },
      "execution_count": 12,
      "outputs": [
        {
          "output_type": "stream",
          "name": "stdout",
          "text": [
            "int object has no attribute append.\n"
          ]
        }
      ]
    },
    {
      "cell_type": "code",
      "source": [
        "#FileNotFoundError\n",
        "try:\n",
        "    with open(\"nofile.txt\", \"r\") as f:\n",
        "        f.read()\n",
        "except FileNotFoundError:\n",
        "    print(\"File not found.\")"
      ],
      "metadata": {
        "colab": {
          "base_uri": "https://localhost:8080/"
        },
        "id": "Owbgk_rbtr8I",
        "outputId": "59e31379-44ad-4ad9-c66f-0012636ce955"
      },
      "execution_count": 13,
      "outputs": [
        {
          "output_type": "stream",
          "name": "stdout",
          "text": [
            "File not found.\n"
          ]
        }
      ]
    },
    {
      "cell_type": "code",
      "source": [
        "#ModuleNotFoundError\n",
        "try:\n",
        "    import non_existent_module\n",
        "except ImportError:\n",
        "    print(\"Module not found.\")"
      ],
      "metadata": {
        "colab": {
          "base_uri": "https://localhost:8080/"
        },
        "id": "Oib-JI3YtyOF",
        "outputId": "f0eb0b98-41be-4697-9f4a-9480cbd03f24"
      },
      "execution_count": 14,
      "outputs": [
        {
          "output_type": "stream",
          "name": "stdout",
          "text": [
            "Module not found.\n"
          ]
        }
      ]
    },
    {
      "cell_type": "code",
      "source": [
        "#NameError\n",
        "try:\n",
        "    print(undeclared_var)\n",
        "except NameError:\n",
        "    print(\"Variable not defined.\")"
      ],
      "metadata": {
        "colab": {
          "base_uri": "https://localhost:8080/"
        },
        "id": "0HOyU6pnt2eJ",
        "outputId": "aa0850f6-3eb7-4aff-d0d3-ab7ebc1f5d68"
      },
      "execution_count": 15,
      "outputs": [
        {
          "output_type": "stream",
          "name": "stdout",
          "text": [
            "Variable not defined.\n"
          ]
        }
      ]
    },
    {
      "cell_type": "code",
      "source": [
        "#ImportError\n",
        "try:\n",
        "    from math import non_existent_function\n",
        "except ImportError:\n",
        "    print(\"Import Error.\")"
      ],
      "metadata": {
        "id": "heSo8EKyuTag"
      },
      "execution_count": null,
      "outputs": []
    },
    {
      "cell_type": "code",
      "source": [],
      "metadata": {
        "id": "No3QTKrqu2mB"
      },
      "execution_count": null,
      "outputs": []
    }
  ]
}