{
 "cells": [
  {
   "cell_type": "markdown",
   "id": "fd39646c",
   "metadata": {},
   "source": [
    "### 1. Basic class and object"
   ]
  },
  {
   "cell_type": "code",
   "execution_count": null,
   "id": "989a31b5",
   "metadata": {},
   "outputs": [],
   "source": [
    "class Person:\n",
    "    def greet(self):\n",
    "        print(\"Hello!\")\n",
    "\n",
    "p = Person()\n",
    "p.greet()"
   ]
  },
  {
   "cell_type": "markdown",
   "id": "9d693739",
   "metadata": {},
   "source": [
    "### 2. Class with constructor"
   ]
  },
  {
   "cell_type": "code",
   "execution_count": null,
   "id": "2830eb6f",
   "metadata": {},
   "outputs": [],
   "source": [
    "class Person:\n",
    "    def __init__(self, name):\n",
    "        self.name = name\n",
    "\n",
    "    def greet(self):\n",
    "        print(\"Hello,\", self.name)\n",
    "\n",
    "p = Person(\"Alice\")\n",
    "p.greet()"
   ]
  },
  {
   "cell_type": "markdown",
   "id": "7e0af922",
   "metadata": {},
   "source": [
    "### 3. Class with multiple objects"
   ]
  },
  {
   "cell_type": "code",
   "execution_count": null,
   "id": "bd077953",
   "metadata": {},
   "outputs": [],
   "source": [
    "class Dog:\n",
    "    def __init__(self, name):\n",
    "        self.name = name\n",
    "\n",
    "d1 = Dog(\"Tommy\")\n",
    "d2 = Dog(\"Bruno\")\n",
    "print(d1.name)\n",
    "print(d2.name)"
   ]
  },
  {
   "cell_type": "markdown",
   "id": "f71d33c5",
   "metadata": {},
   "source": [
    "### 4. Class with method using parameters"
   ]
  },
  {
   "cell_type": "code",
   "execution_count": null,
   "id": "1afb72d1",
   "metadata": {},
   "outputs": [],
   "source": [
    "class Calculator:\n",
    "    def add(self, a, b):\n",
    "        return a + b\n",
    "\n",
    "c = Calculator()\n",
    "print(c.add(5, 3))"
   ]
  },
  {
   "cell_type": "markdown",
   "id": "f19c8cf5",
   "metadata": {},
   "source": [
    "### 5. Class with instance variables"
   ]
  },
  {
   "cell_type": "code",
   "execution_count": null,
   "id": "c32b01a6",
   "metadata": {},
   "outputs": [],
   "source": [
    "class Circle:\n",
    "    def __init__(self, radius):\n",
    "        self.radius = radius\n",
    "\n",
    "    def area(self):\n",
    "        return 3.14 * self.radius ** 2\n",
    "\n",
    "c = Circle(5)\n",
    "print(c.area())"
   ]
  },
  {
   "cell_type": "markdown",
   "id": "80d125bc",
   "metadata": {},
   "source": [
    "### 6. Class with default parameter"
   ]
  },
  {
   "cell_type": "code",
   "execution_count": null,
   "id": "88a51a06",
   "metadata": {},
   "outputs": [],
   "source": [
    "class Car:\n",
    "    def __init__(self, model=\"Toyota\"):\n",
    "        self.model = model\n",
    "\n",
    "c = Car()\n",
    "print(c.model)"
   ]
  },
  {
   "cell_type": "markdown",
   "id": "57a069e1",
   "metadata": {},
   "source": [
    "### 7. Class with user input"
   ]
  },
  {
   "cell_type": "code",
   "execution_count": null,
   "id": "6fc0c830",
   "metadata": {},
   "outputs": [],
   "source": [
    "class Student:\n",
    "    def __init__(self):\n",
    "        self.name = input(\"Enter name: \")\n",
    "\n",
    "    def show(self):\n",
    "        print(\"Name:\", self.name)\n",
    "\n",
    "s = Student()\n",
    "s.show()"
   ]
  },
  {
   "cell_type": "markdown",
   "id": "e91433af",
   "metadata": {},
   "source": [
    "### 8. Class with private attribute"
   ]
  },
  {
   "cell_type": "code",
   "execution_count": null,
   "id": "422e1b4f",
   "metadata": {},
   "outputs": [],
   "source": [
    "class Employee:\n",
    "    def __init__(self, name):\n",
    "        self.__name = name\n",
    "\n",
    "    def show(self):\n",
    "        print(\"Name:\", self.__name)\n",
    "\n",
    "e = Employee(\"John\")\n",
    "e.show()"
   ]
  },
  {
   "cell_type": "markdown",
   "id": "097b490f",
   "metadata": {},
   "source": [
    "### 9. Class with multiple methods"
   ]
  },
  {
   "cell_type": "code",
   "execution_count": null,
   "id": "ae64b1bc",
   "metadata": {},
   "outputs": [],
   "source": [
    "class Rectangle:\n",
    "    def __init__(self, l, b):\n",
    "        self.length = l\n",
    "        self.breadth = b\n",
    "\n",
    "    def area(self):\n",
    "        return self.length * self.breadth\n",
    "\n",
    "    def perimeter(self):\n",
    "        return 2 * (self.length + self.breadth)\n",
    "\n",
    "r = Rectangle(4, 5)\n",
    "print(r.area())\n",
    "print(r.perimeter())"
   ]
  },
  {
   "cell_type": "markdown",
   "id": "0a90bed0",
   "metadata": {},
   "source": [
    "### 10. Class with condition"
   ]
  },
  {
   "cell_type": "code",
   "execution_count": null,
   "id": "9483db70",
   "metadata": {},
   "outputs": [],
   "source": [
    "class Number:\n",
    "    def __init__(self, n):\n",
    "        self.n = n\n",
    "\n",
    "    def check(self):\n",
    "        if self.n % 2 == 0:\n",
    "            print(\"Even\")\n",
    "        else:\n",
    "            print(\"Odd\")\n",
    "\n",
    "num = Number(7)\n",
    "num.check()"
   ]
  },
  {
   "cell_type": "markdown",
   "id": "8dd65753",
   "metadata": {},
   "source": [
    "### 11. Class with loop"
   ]
  },
  {
   "cell_type": "code",
   "execution_count": null,
   "id": "7e128f85",
   "metadata": {},
   "outputs": [],
   "source": [
    "class Table:\n",
    "    def __init__(self, n):\n",
    "        self.n = n\n",
    "\n",
    "    def show(self):\n",
    "        for i in range(1, 11):\n",
    "            print(f\"{self.n} x {i} = {self.n * i}\")\n",
    "\n",
    "t = Table(5)\n",
    "t.show()"
   ]
  },
  {
   "cell_type": "markdown",
   "id": "81fc2a42",
   "metadata": {},
   "source": [
    "### 12. Class with list"
   ]
  },
  {
   "cell_type": "code",
   "execution_count": null,
   "id": "673ddb91",
   "metadata": {},
   "outputs": [],
   "source": [
    "class Subjects:\n",
    "    def __init__(self):\n",
    "        self.subjects = [\"Math\", \"Science\", \"English\"]\n",
    "\n",
    "    def display(self):\n",
    "        for sub in self.subjects:\n",
    "            print(sub)\n",
    "\n",
    "s = Subjects()\n",
    "s.display()"
   ]
  },
  {
   "cell_type": "markdown",
   "id": "7e038f1a",
   "metadata": {},
   "source": [
    "### 13. Class with tuple"
   ]
  },
  {
   "cell_type": "code",
   "execution_count": null,
   "id": "a3bf34af",
   "metadata": {},
   "outputs": [],
   "source": [
    "class Coordinates:\n",
    "    def __init__(self):\n",
    "        self.point = (10, 20)\n",
    "\n",
    "    def show(self):\n",
    "        print(\"X:\", self.point[0], \"Y:\", self.point[1])\n",
    "\n",
    "c = Coordinates()\n",
    "c.show()"
   ]
  },
  {
   "cell_type": "markdown",
   "id": "493f14bc",
   "metadata": {},
   "source": [
    "### 14. Class with dictionary"
   ]
  },
  {
   "cell_type": "code",
   "execution_count": null,
   "id": "7341cad4",
   "metadata": {},
   "outputs": [],
   "source": [
    "class Student:\n",
    "    def __init__(self):\n",
    "        self.marks = {\"Math\": 85, \"Science\": 90}\n",
    "\n",
    "    def show_marks(self):\n",
    "        for subject, mark in self.marks.items():\n",
    "            print(subject, \":\", mark)\n",
    "\n",
    "s = Student()\n",
    "s.show_marks()"
   ]
  },
  {
   "cell_type": "markdown",
   "id": "ddb0e9be",
   "metadata": {},
   "source": [
    "### 15. Class with set"
   ]
  },
  {
   "cell_type": "code",
   "execution_count": null,
   "id": "2e74bffd",
   "metadata": {},
   "outputs": [],
   "source": [
    "class UniqueNumbers:\n",
    "    def __init__(self):\n",
    "        self.nums = {1, 2, 3, 2, 1}\n",
    "\n",
    "    def show(self):\n",
    "        print(self.nums)\n",
    "\n",
    "u = UniqueNumbers()\n",
    "u.show()"
   ]
  },
  {
   "cell_type": "markdown",
   "id": "4b6d0534",
   "metadata": {},
   "source": [
    "### 16. Class comparison"
   ]
  },
  {
   "cell_type": "code",
   "execution_count": null,
   "id": "487d36dd",
   "metadata": {},
   "outputs": [],
   "source": [
    "class Compare:\n",
    "    def __init__(self, a):\n",
    "        self.a = a\n",
    "\n",
    "    def is_equal(self, other):\n",
    "        return self.a == other.a\n",
    "\n",
    "x = Compare(10)\n",
    "y = Compare(10)\n",
    "print(x.is_equal(y))"
   ]
  },
  {
   "cell_type": "markdown",
   "id": "535b244e",
   "metadata": {},
   "source": [
    "### 17. Class and static method"
   ]
  },
  {
   "cell_type": "code",
   "execution_count": null,
   "id": "bc00c6fe",
   "metadata": {},
   "outputs": [],
   "source": [
    "class Info:\n",
    "    @staticmethod\n",
    "    def greet():\n",
    "        print(\"Welcome to Python!\")\n",
    "\n",
    "Info.greet()"
   ]
  },
  {
   "cell_type": "markdown",
   "id": "88441902",
   "metadata": {},
   "source": [
    "### 18. Class method vs instance method"
   ]
  },
  {
   "cell_type": "code",
   "execution_count": null,
   "id": "47ba6d72",
   "metadata": {},
   "outputs": [],
   "source": [
    "class Sample:\n",
    "    count = 0\n",
    "\n",
    "    def __init__(self):\n",
    "        Sample.count += 1\n",
    "\n",
    "    @classmethod\n",
    "    def total(cls):\n",
    "        print(\"Total objects:\", cls.count)\n",
    "\n",
    "s1 = Sample()\n",
    "s2 = Sample()\n",
    "Sample.total()"
   ]
  },
  {
   "cell_type": "markdown",
   "id": "0894461d",
   "metadata": {},
   "source": [
    "### 19. Class with __str__ method"
   ]
  },
  {
   "cell_type": "code",
   "execution_count": null,
   "id": "0b75e99a",
   "metadata": {},
   "outputs": [],
   "source": [
    "class Book:\n",
    "    def __init__(self, title):\n",
    "        self.title = title\n",
    "\n",
    "    def __str__(self):\n",
    "        return f\"Book: {self.title}\"\n",
    "\n",
    "b = Book(\"Python 101\")\n",
    "print(b)"
   ]
  },
  {
   "cell_type": "markdown",
   "id": "cfe9cf8c",
   "metadata": {},
   "source": [
    "### 20. Class inheritance simple"
   ]
  },
  {
   "cell_type": "code",
   "execution_count": null,
   "id": "773878c3",
   "metadata": {},
   "outputs": [],
   "source": [
    "class Animal:\n",
    "    def sound(self):\n",
    "        print(\"Some sound\")\n",
    "\n",
    "class Dog(Animal):\n",
    "    def sound(self):\n",
    "        print(\"Bark\")\n",
    "\n",
    "d = Dog()\n",
    "d.sound()"
   ]
  }
 ],
 "metadata": {},
 "nbformat": 4,
 "nbformat_minor": 5
}
